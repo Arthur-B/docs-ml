{
 "cells": [
  {
   "cell_type": "code",
   "execution_count": 1,
   "id": "e3af0014",
   "metadata": {},
   "outputs": [],
   "source": [
    "import matplotlib.pyplot as plt\n",
    "from sklearn.datasets import load_iris\n",
    "from sklearn.model_selection import train_test_split\n",
    "from sklearn.preprocessing import StandardScaler\n",
    "from timeit import default_timer as timer\n",
    "import torch"
   ]
  },
  {
   "cell_type": "code",
   "execution_count": 2,
   "id": "61a03cf4",
   "metadata": {},
   "outputs": [],
   "source": [
    "epochs = 10000"
   ]
  },
  {
   "cell_type": "markdown",
   "id": "5f4245b1",
   "metadata": {},
   "source": [
    "# Iris dataset"
   ]
  },
  {
   "cell_type": "code",
   "execution_count": 3,
   "id": "2e3b7a8d",
   "metadata": {},
   "outputs": [],
   "source": [
    "# Loading the data\n",
    "iris = load_iris()  # Load data from sklearn\n",
    "X = iris.data\n",
    "y = iris.target\n",
    "\n",
    "# Splitting in train/test data\n",
    "X_train, X_test, y_train, y_test = train_test_split(X, y, test_size=0.2)\n",
    "\n",
    "# Scale the data to 0 mean and 1 variance\n",
    "scaler = StandardScaler()\n",
    "scaler.fit(X_train)     # We fit it on X_train, the data \"we can see\"\n",
    "X_train = scaler.transform(X_train)\n",
    "X_test = scaler.transform(X_test)\n",
    "\n",
    "# Enforce the type of the data\n",
    "X_train = torch.tensor(X_train).float()\n",
    "X_test = torch.tensor(X_test).float()\n",
    "y_train = torch.tensor(y_train).long()\n",
    "y_test = torch.tensor(y_test).long()"
   ]
  },
  {
   "cell_type": "markdown",
   "id": "77c51f5d",
   "metadata": {},
   "source": [
    "# CPU training"
   ]
  },
  {
   "cell_type": "markdown",
   "id": "28ad0f4f",
   "metadata": {},
   "source": [
    "## Definition"
   ]
  },
  {
   "cell_type": "code",
   "execution_count": 4,
   "id": "6c11813b",
   "metadata": {},
   "outputs": [],
   "source": [
    "model_cpu = torch.nn.Sequential(\n",
    "    torch.nn.Linear(4, 256),     # 4 inputs\n",
    "    torch.nn.ReLU(),\n",
    "    torch.nn.Linear(256, 256),\n",
    "    torch.nn.ReLU(),\n",
    "    torch.nn.Linear(256, 3),     # 3 outputs, one for each possible category\n",
    "    torch.nn.Softmax(dim=1)\n",
    "    )\n",
    "\n",
    "optimizer_cpu = torch.optim.SGD(model_cpu.parameters(), lr=1e-4, momentum=0.9)"
   ]
  },
  {
   "cell_type": "code",
   "execution_count": 5,
   "id": "cd0efb7d",
   "metadata": {},
   "outputs": [],
   "source": [
    "loss_fn = torch.nn.CrossEntropyLoss()"
   ]
  },
  {
   "cell_type": "markdown",
   "id": "663a8ed5",
   "metadata": {},
   "source": [
    "## Training"
   ]
  },
  {
   "cell_type": "code",
   "execution_count": 6,
   "id": "cbfe0580",
   "metadata": {},
   "outputs": [],
   "source": [
    "def train(X_train, X_test, y_train, y_test,\n",
    "          model, optimizer, loss_fn, epochs):\n",
    "    \n",
    "    accuracy_train_list = []\n",
    "    accuracy_test_list = []\n",
    "    t_list = []\n",
    "    \n",
    "    t_start = timer()\n",
    "    \n",
    "    for i in range(epochs):\n",
    "        \n",
    "        # Our classic syntax to update the weights\n",
    "        \n",
    "        y_pred = model(X_train)\n",
    "        loss = loss_fn(y_pred, y_train)\n",
    "        optimizer.zero_grad()\n",
    "        loss.backward()\n",
    "        optimizer.step()\n",
    "\n",
    "        # Determining the error\n",
    "        \n",
    "        with torch.no_grad():\n",
    "\n",
    "            # Train accuracy\n",
    "            y_pred = model(X_train)  # Make prediction for the test dataset\n",
    "            correct = \\\n",
    "                (torch.argmax(y_pred, dim=1) == y_train).type(torch.FloatTensor)\n",
    "            accuracy_train_list.append(correct.mean())\n",
    "\n",
    "            # Test accuracy\n",
    "            y_pred = model(X_test)  # Make prediction for the train dataset\n",
    "            correct = \\\n",
    "                (torch.argmax(y_pred, dim=1) == y_test).type(torch.FloatTensor)\n",
    "            accuracy_test_list.append(correct.mean())\n",
    "    \n",
    "        t_end = timer()\n",
    "        t_list.append(t_end - t_start)\n",
    "        \n",
    "        if i % 1000 == 0:\n",
    "            print('[{} / {}]\\tTrain: {:.2%}, test: {:.2%}' \\\n",
    "                  .format(i, epochs, accuracy_test_list[-1], accuracy_train_list[-1]))\n",
    "    \n",
    "    return accuracy_train_list, accuracy_test_list, t_list"
   ]
  },
  {
   "cell_type": "code",
   "execution_count": 7,
   "id": "99e2e117",
   "metadata": {},
   "outputs": [
    {
     "name": "stdout",
     "output_type": "stream",
     "text": [
      "[0 / 10000] Train: 43.33% (%),\tTest: 30.83% (%)\n",
      "[1000 / 10000] Train: 53.33% (%),\tTest: 70.83% (%)\n",
      "[2000 / 10000] Train: 60.00% (%),\tTest: 74.17% (%)\n",
      "[3000 / 10000] Train: 73.33% (%),\tTest: 83.33% (%)\n",
      "[4000 / 10000] Train: 80.00% (%),\tTest: 85.00% (%)\n",
      "[5000 / 10000] Train: 83.33% (%),\tTest: 86.67% (%)\n",
      "[6000 / 10000] Train: 86.67% (%),\tTest: 87.50% (%)\n",
      "[7000 / 10000] Train: 86.67% (%),\tTest: 89.17% (%)\n",
      "[8000 / 10000] Train: 90.00% (%),\tTest: 89.17% (%)\n",
      "[9000 / 10000] Train: 93.33% (%),\tTest: 90.83% (%)\n"
     ]
    }
   ],
   "source": [
    "acc_train_cpu, acc_test_cpu, t_list_cpu = \\\n",
    "    train(X_train, X_test, y_train, y_test,\n",
    "          model_cpu, optimizer_cpu, loss_fn, epochs)"
   ]
  },
  {
   "cell_type": "code",
   "execution_count": 8,
   "id": "b9ead4f4",
   "metadata": {},
   "outputs": [
    {
     "name": "stdout",
     "output_type": "stream",
     "text": [
      "Accuracy:\tTrain: 91.67%,\tTest: 93.33%\n",
      "Training time on cpu: 46.1 (s)\n"
     ]
    }
   ],
   "source": [
    "print(\"Accuracy:\\tTrain: {:.2%},\\tTest: {:.2%}\".format(acc_train_cpu[-1], acc_test_cpu[-1]))\n",
    "print(\"Training time on cpu: {:.1f} (s)\".format(t_list_cpu[-1]))"
   ]
  },
  {
   "cell_type": "markdown",
   "id": "8611dd72",
   "metadata": {},
   "source": [
    "# GPU training"
   ]
  },
  {
   "cell_type": "markdown",
   "id": "a197fb2a",
   "metadata": {},
   "source": [
    "## Enable the GPU"
   ]
  },
  {
   "cell_type": "code",
   "execution_count": 9,
   "id": "b80c0b8d",
   "metadata": {},
   "outputs": [
    {
     "name": "stdout",
     "output_type": "stream",
     "text": [
      "Using cpu device\n"
     ]
    }
   ],
   "source": [
    "device = 'cuda' if torch.cuda.is_available() else 'cpu'\n",
    "print('Using {} device'.format(device))"
   ]
  },
  {
   "cell_type": "code",
   "execution_count": 10,
   "id": "c935f0d7",
   "metadata": {},
   "outputs": [],
   "source": [
    "X_train_gpu = X_train.to(device)\n",
    "X_test_gpu = X_test.to(device)\n",
    "y_train_gpu = y_train.to(device)\n",
    "y_test_gpu = y_test.to(device)"
   ]
  },
  {
   "cell_type": "code",
   "execution_count": 11,
   "id": "e491a761",
   "metadata": {},
   "outputs": [],
   "source": [
    "model_gpu = model_cpu = torch.nn.Sequential(\n",
    "    torch.nn.Linear(4, 256),     # 4 inputs\n",
    "    torch.nn.ReLU(),\n",
    "    torch.nn.Linear(256, 256),\n",
    "    torch.nn.ReLU(),\n",
    "    torch.nn.Linear(256, 3),     # 3 outputs, one for each possible category\n",
    "    torch.nn.Softmax(dim=1)\n",
    "    )"
   ]
  },
  {
   "cell_type": "code",
   "execution_count": 12,
   "id": "13a0baea",
   "metadata": {},
   "outputs": [],
   "source": [
    "model_gpu = model_gpu.to(device)"
   ]
  },
  {
   "cell_type": "code",
   "execution_count": 13,
   "id": "f00c7d88",
   "metadata": {},
   "outputs": [],
   "source": [
    "optimizer_gpu = torch.optim.SGD(model_gpu.parameters(), lr=1e-4, momentum=0.9)"
   ]
  },
  {
   "cell_type": "markdown",
   "id": "87721e36",
   "metadata": {},
   "source": [
    "## Training"
   ]
  },
  {
   "cell_type": "code",
   "execution_count": 14,
   "id": "bc95bfed",
   "metadata": {},
   "outputs": [
    {
     "name": "stdout",
     "output_type": "stream",
     "text": [
      "[0 / 10000] Train: 20.00% (%),\tTest: 17.50% (%)\n",
      "[1000 / 10000] Train: 56.67% (%),\tTest: 69.17% (%)\n",
      "[2000 / 10000] Train: 66.67% (%),\tTest: 73.33% (%)\n",
      "[3000 / 10000] Train: 73.33% (%),\tTest: 83.33% (%)\n",
      "[4000 / 10000] Train: 83.33% (%),\tTest: 85.83% (%)\n",
      "[5000 / 10000] Train: 86.67% (%),\tTest: 90.00% (%)\n",
      "[6000 / 10000] Train: 90.00% (%),\tTest: 90.00% (%)\n",
      "[7000 / 10000] Train: 90.00% (%),\tTest: 91.67% (%)\n",
      "[8000 / 10000] Train: 93.33% (%),\tTest: 92.50% (%)\n",
      "[9000 / 10000] Train: 93.33% (%),\tTest: 92.50% (%)\n"
     ]
    }
   ],
   "source": [
    "acc_train_gpu, acc_test_gpu, t_list_gpu = \\\n",
    "    train(X_train_gpu, X_test_gpu, y_train_gpu, y_test_gpu,\n",
    "          model_gpu, optimizer_gpu, loss_fn, epochs)"
   ]
  },
  {
   "cell_type": "code",
   "execution_count": 15,
   "id": "b137b480",
   "metadata": {},
   "outputs": [
    {
     "name": "stdout",
     "output_type": "stream",
     "text": [
      "Accuracy:\tTrain: 94.17%,\tTest: 93.33%\n",
      "Training time on cpu: 48.1 (s)\n"
     ]
    }
   ],
   "source": [
    "print(\"Accuracy:\\tTrain: {:.2%},\\tTest: {:.2%}\".format(acc_train_gpu[-1], acc_test_gpu[-1]))\n",
    "print(\"Training time on {}: {:.1f} (s)\".format(device, t_list_gpu[-1]))"
   ]
  },
  {
   "cell_type": "markdown",
   "id": "2b8978d5",
   "metadata": {},
   "source": [
    "# Plot"
   ]
  },
  {
   "cell_type": "code",
   "execution_count": 16,
   "id": "52396175",
   "metadata": {},
   "outputs": [
    {
     "data": {
      "image/png": "[encoded data removed]",
      "text/plain": [
       "<Figure size 432x288 with 1 Axes>"
      ]
     },
     "metadata": {
      "needs_background": "light"
     },
     "output_type": "display_data"
    }
   ],
   "source": [
    "# (fluff) Get color order\n",
    "cycle = plt.rcParams['axes.prop_cycle'].by_key()['color']\n",
    "\n",
    "fig1, ax1 = plt.subplots()\n",
    "# CPU training\n",
    "ax1.plot(t_list_cpu, acc_test_cpu, color=cycle[0], label='CPU, test')\n",
    "ax1.plot(t_list_cpu, acc_train_cpu, '--', color=cycle[0], label='CPU, train')\n",
    "# GPU training\n",
    "ax1.plot(t_list_gpu, acc_test_gpu, color=cycle[1], label='{}, test'.format(device))\n",
    "ax1.plot(t_list_gpu, acc_train_gpu, '--', color=cycle[1], label='{}, train'.format(device))\n",
    "# Fluff\n",
    "ax1.set(xlabel='t ()', ylabel='Accuracy (%)')\n",
    "ax1.legend()\n",
    "plt.show()"
   ]
  },
  {
   "cell_type": "code",
   "execution_count": null,
   "id": "95d539e3",
   "metadata": {},
   "outputs": [],
   "source": []
  }
 ],
 "metadata": {
  "kernelspec": {
   "display_name": "Python 3",
   "language": "python",
   "name": "python3"
  },
  "language_info": {
   "codemirror_mode": {
    "name": "ipython",
    "version": 3
   },
   "file_extension": ".py",
   "mimetype": "text/x-python",
   "name": "python",
   "nbconvert_exporter": "python",
   "pygments_lexer": "ipython3",
   "version": "3.8.10"
  }
 },
 "nbformat": 4,
 "nbformat_minor": 5
}
