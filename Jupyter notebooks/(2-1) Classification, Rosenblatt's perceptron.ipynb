{
 "cells": [
  {
   "cell_type": "markdown",
   "id": "6fa5e4fe",
   "metadata": {},
   "source": [
    "# Additional ressources\n",
    "\n",
    "* Haykin"
   ]
  },
  {
   "cell_type": "markdown",
   "id": "91b4561d",
   "metadata": {},
   "source": [
    "# McCulloch-Pitts neuron model\n",
    "\n",
    "While neural networks developed really quickly recently due to advances in computer hardware, the idea of an artificial neuron goes back to 1943 where McCulloch and Pitts introduced the concept of neural networks as computing machines. They drew parallels with the behaviour of biological neurons to define a general signal processing model that may be used for learning. The model is presented below.\n",
    "\n",
    "![neuron-model.png](images/neuron-model.png)\n",
    "\n",
    "The model first make a linear combinations of the inputs:\n",
    "\n",
    "![equation_v.png](images/equation_v.png)\n",
    "\n",
    "Then, pass it through a non-linear activation function:\n",
    "\n",
    "![equation_output.png](images/equation_output.png)\n",
    "\n",
    "Throughout the tutorials, we will see that there are a wide range of activation functions that can be used (step function, sigmoid, ReLU, ...). Here, it is [the unit step function](https://en.wikipedia.org/wiki/Heaviside_step_function):\n",
    "\n",
    "![step function](images/equation_step_function.png)\n",
    "\n",
    "This divide the space in two parts, separated by the line v=0.\n",
    "\n",
    "![Separate space](images/separate_space.png)\n",
    "\n",
    "Therefore, by adjusting the weights and bias, the position of the line can be adjusted to separate two categories.\n",
    "The question is then:\n",
    "\n",
    "\"How do we learn the proper parameters?\""
   ]
  },
  {
   "cell_type": "markdown",
   "id": "389e1ff8",
   "metadata": {},
   "source": [
    "# Rule-based learning: Rosenblatt's perceptron\n",
    "\n",
    "Blablablabla"
   ]
  },
  {
   "cell_type": "code",
   "execution_count": 3,
   "id": "1995f88d",
   "metadata": {},
   "outputs": [],
   "source": [
    "import numpy as np\n",
    "import matplotlib.pyplot as plt"
   ]
  },
  {
   "cell_type": "markdown",
   "id": "1d236219",
   "metadata": {},
   "source": [
    "## Generate some data\n",
    "\n",
    "Following the standard notation, `X` is the input data, the location of the data point, and `y` is the thing we want to predict, here the category. "
   ]
  },
  {
   "cell_type": "code",
   "execution_count": 4,
   "id": "3aa530e6",
   "metadata": {},
   "outputs": [],
   "source": [
    "def gaussian2d(x1, x2, x1_std, x2_std, n):\n",
    "    X = np.stack((np.random.normal(x1, x1_std, n),\n",
    "                  np.random.normal(x2, x2_std, n)), axis=1)\n",
    "    return X"
   ]
  },
  {
   "cell_type": "code",
   "execution_count": 7,
   "id": "b15d05b7",
   "metadata": {},
   "outputs": [],
   "source": [
    "# First Gaussian distribution\n",
    "X1 = gaussian2d(-5, 5, 3, 1.5, 200)\n",
    "y1 = np.ones(len(X1))    # First category is 1\n",
    "\n",
    "# Second distribution\n",
    "X2 = gaussian2d(10, 10, 3, 3, 200)\n",
    "y2 = np.ones(len(X2)) * -1   # Second category is -1"
   ]
  },
  {
   "cell_type": "code",
   "execution_count": 11,
   "id": "2700c47b",
   "metadata": {},
   "outputs": [
    {
     "data": {
      "image/png": "[encoded data removed]",
      "text/plain": [
       "<Figure size 432x288 with 1 Axes>"
      ]
     },
     "metadata": {
      "needs_background": "light"
     },
     "output_type": "display_data"
    }
   ],
   "source": [
    "fig1, ax1 = plt.subplots()\n",
    "ax1.scatter(X1[:, 0], X1[:, 1], marker='.', alpha=0.3, label='1st category')\n",
    "ax1.scatter(X2[:, 0], X2[:, 1], marker='.', alpha=0.3, label='2nd category')\n",
    "ax1.set(xlabel='x1', ylabel='x2')\n",
    "ax1.legend()\n",
    "plt.show()"
   ]
  },
  {
   "cell_type": "markdown",
   "id": "863e5c21",
   "metadata": {},
   "source": [
    "We combine the two distributions into a single dataset:"
   ]
  },
  {
   "cell_type": "code",
   "execution_count": 13,
   "id": "b5c255bd",
   "metadata": {},
   "outputs": [
    {
     "name": "stdout",
     "output_type": "stream",
     "text": [
      "Inputs shape:\t(400, 2)\n",
      "Label shape:\t(400,)\n"
     ]
    }
   ],
   "source": [
    "X = np.concatenate((X1, X2), axis=0)\n",
    "y = np.concatenate((y1, y2), axis=0)\n",
    "\n",
    "print('Inputs shape:\\t{}\\nLabel shape:\\t{}'.format(X.shape, y.shape))"
   ]
  },
  {
   "cell_type": "markdown",
   "id": "adb84d83",
   "metadata": {},
   "source": [
    "## Update rule"
   ]
  },
  {
   "cell_type": "code",
   "execution_count": 16,
   "id": "86014b9d",
   "metadata": {},
   "outputs": [],
   "source": [
    "def update_weights(X, y, w, alpha):\n",
    "    \"\"\"\n",
    "    Follows equation 1.3 and 1.6 to update the weight vector w.\n",
    "    \"\"\"\n",
    "\n",
    "    for i in range(len(X)):\n",
    "        # Define the vector according to the textbook\n",
    "        x_temp = np.array([[1], [X[i, 0]], [X[i, 1]]]).T\n",
    "\n",
    "        # Combiner output (Eq. 1.3)\n",
    "        v = np.matmul(x_temp, w.T)\n",
    "\n",
    "        # Eq 1.6: weight update\n",
    "        if (v > 0) and (y[i] == -1):\n",
    "            w -= alpha * x_temp\n",
    "        elif (v <= 0) and (y[i] == 1):\n",
    "            w += alpha * x_temp\n",
    "    return w"
   ]
  },
  {
   "cell_type": "markdown",
   "id": "55a292a2",
   "metadata": {},
   "source": [
    "## Training loop"
   ]
  },
  {
   "cell_type": "code",
   "execution_count": 17,
   "id": "daaa8ffb",
   "metadata": {},
   "outputs": [],
   "source": [
    "def train(X, y, w, alpha, epochs):\n",
    "    for i in range(epochs):\n",
    "        w = update_weights(X, y, w, alpha)\n",
    "        if i % 100 == 0:\n",
    "            print(\"[{} / {}]\".format(i, epochs))\n",
    "    return w"
   ]
  },
  {
   "cell_type": "markdown",
   "id": "62a8dd4e",
   "metadata": {},
   "source": [
    "# Training"
   ]
  },
  {
   "cell_type": "code",
   "execution_count": 18,
   "id": "8269c243",
   "metadata": {},
   "outputs": [
    {
     "name": "stdout",
     "output_type": "stream",
     "text": [
      "[0 / 1000]\n",
      "[100 / 1000]\n",
      "[200 / 1000]\n",
      "[300 / 1000]\n",
      "[400 / 1000]\n",
      "[500 / 1000]\n",
      "[600 / 1000]\n",
      "[700 / 1000]\n",
      "[800 / 1000]\n",
      "[900 / 1000]\n"
     ]
    }
   ],
   "source": [
    "# Define the vector according to the textbook\n",
    "w = np.array([[0.0], [0.0], [0.0]]).T\n",
    "alpha = 1e-4    # Learning rate\n",
    "epochs = 1000\n",
    "\n",
    "w = train(X, y, w, alpha, epochs)\n",
    "w = w.squeeze()"
   ]
  },
  {
   "cell_type": "markdown",
   "id": "59e167ad",
   "metadata": {},
   "source": [
    "## Final graph"
   ]
  },
  {
   "cell_type": "code",
   "execution_count": 19,
   "id": "3da9e754",
   "metadata": {},
   "outputs": [],
   "source": [
    "x_plot = np.linspace(-10, 10)\n",
    "y_plot = -(w[1] * x_plot + w[0]) / w[2]"
   ]
  },
  {
   "cell_type": "code",
   "execution_count": 21,
   "id": "60487267",
   "metadata": {},
   "outputs": [
    {
     "data": {
      "image/png": "[encoded data removed]",
      "text/plain": [
       "<Figure size 432x288 with 1 Axes>"
      ]
     },
     "metadata": {
      "needs_background": "light"
     },
     "output_type": "display_data"
    }
   ],
   "source": [
    "fig2, ax2 = plt.subplots()\n",
    "ax2.scatter(X1[:, 0], X1[:, 1], marker='.', alpha=0.3, label='1st category')\n",
    "ax2.scatter(X2[:, 0], X2[:, 1], marker='.', alpha=0.3, label='2nd category')\n",
    "ax2.plot(x_plot, y_plot, 'k', label='Learned boundary')\n",
    "ax2.set(xlabel='x1', ylabel='x2')\n",
    "ax2.legend()\n",
    "plt.show()"
   ]
  }
 ],
 "metadata": {
  "kernelspec": {
   "display_name": "Python 3",
   "language": "python",
   "name": "python3"
  },
  "language_info": {
   "codemirror_mode": {
    "name": "ipython",
    "version": 3
   },
   "file_extension": ".py",
   "mimetype": "text/x-python",
   "name": "python",
   "nbconvert_exporter": "python",
   "pygments_lexer": "ipython3",
   "version": "3.8.10"
  }
 },
 "nbformat": 4,
 "nbformat_minor": 5
}
