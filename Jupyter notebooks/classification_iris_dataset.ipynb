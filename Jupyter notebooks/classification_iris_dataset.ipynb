{
 "cells": [
  {
   "cell_type": "code",
   "execution_count": 1,
   "id": "37f1b5ea",
   "metadata": {},
   "outputs": [],
   "source": [
    "import matplotlib.pyplot as plt\n",
    "from sklearn.datasets import load_iris\n",
    "from sklearn.model_selection import train_test_split\n",
    "from sklearn.preprocessing import StandardScaler\n",
    "import torch"
   ]
  },
  {
   "cell_type": "markdown",
   "id": "3eae1512",
   "metadata": {},
   "source": [
    "# Iris dataset"
   ]
  },
  {
   "cell_type": "code",
   "execution_count": 2,
   "id": "045a0943",
   "metadata": {},
   "outputs": [],
   "source": [
    "iris = load_iris()  # Load data from sklearn\n",
    "X = iris.data\n",
    "y = iris.target"
   ]
  },
  {
   "cell_type": "markdown",
   "id": "4c3609ed",
   "metadata": {},
   "source": [
    "## Looking at the data"
   ]
  },
  {
   "cell_type": "markdown",
   "id": "73ced39a",
   "metadata": {},
   "source": [
    "## Preparing the data"
   ]
  },
  {
   "cell_type": "code",
   "execution_count": 3,
   "id": "5652263c",
   "metadata": {},
   "outputs": [],
   "source": [
    "X_train, X_test, y_train, y_test = train_test_split(X, y, test_size=0.2)"
   ]
  },
  {
   "cell_type": "code",
   "execution_count": 4,
   "id": "bc7ea009",
   "metadata": {},
   "outputs": [],
   "source": [
    "scaler = StandardScaler()\n",
    "scaler.fit(X_train)     # We fit it on X_train, the data \"we can see\"\n",
    "X_train = scaler.transform(X_train)\n",
    "X_test = scaler.transform(X_test)"
   ]
  },
  {
   "cell_type": "code",
   "execution_count": 5,
   "id": "c16ab75c",
   "metadata": {},
   "outputs": [],
   "source": [
    "X_train = torch.tensor(X_train).float()\n",
    "X_test = torch.tensor(X_test).float()\n",
    "y_train = torch.tensor(y_train).long()\n",
    "y_test = torch.tensor(y_test).long()"
   ]
  },
  {
   "cell_type": "markdown",
   "id": "9c024c91",
   "metadata": {},
   "source": [
    "# Define the network"
   ]
  },
  {
   "cell_type": "code",
   "execution_count": 14,
   "id": "08f9a1b6",
   "metadata": {},
   "outputs": [],
   "source": [
    "model = torch.nn.Sequential(\n",
    "    torch.nn.Linear(4, 256),     # 4 inputs\n",
    "    torch.nn.ReLU(),            # Non-linear activation\n",
    "    torch.nn.Linear(256, 256),\n",
    "    torch.nn.ReLU(),\n",
    "    torch.nn.Linear(256, 3),     # 3 outputs, one for each possible category\n",
    "    torch.nn.Softmax(dim=1)     # Returns the probability to be in each category\n",
    "    )\n",
    "\n",
    "optimizer = torch.optim.SGD(model.parameters(), lr=1e-4, momentum=0.9)"
   ]
  },
  {
   "cell_type": "code",
   "execution_count": 7,
   "id": "91c72a4c",
   "metadata": {},
   "outputs": [],
   "source": [
    "loss_fn = torch.nn.CrossEntropyLoss()"
   ]
  },
  {
   "cell_type": "markdown",
   "id": "ea7b5213",
   "metadata": {},
   "source": [
    "# Training"
   ]
  },
  {
   "cell_type": "code",
   "execution_count": 8,
   "id": "f6e31a68",
   "metadata": {},
   "outputs": [],
   "source": [
    "def train(X_train, X_test, y_train, y_test,\n",
    "          model, optimizer, loss_fn, epochs):\n",
    "    \n",
    "    accuracy_train_list = []\n",
    "    accuracy_test_list = []\n",
    "    \n",
    "    for i in range(epochs):\n",
    "        \n",
    "        # Our classic syntax to update the weights\n",
    "        \n",
    "        y_pred = model(X_train)\n",
    "        loss = loss_fn(y_pred, y_train)\n",
    "        optimizer.zero_grad()\n",
    "        loss.backward()\n",
    "        optimizer.step()\n",
    "\n",
    "        # Determining the error\n",
    "        \n",
    "        with torch.no_grad():\n",
    "\n",
    "            # Train accuracy\n",
    "            y_pred = model(X_train)  # Make prediction for the test dataset\n",
    "            correct = \\\n",
    "                (torch.argmax(y_pred, dim=1) == y_train).type(torch.FloatTensor)\n",
    "            accuracy_train_list.append(correct.mean())\n",
    "\n",
    "            # Test accuracy\n",
    "            y_pred = model(X_test)  # Make prediction for the train dataset\n",
    "            correct = \\\n",
    "                (torch.argmax(y_pred, dim=1) == y_test).type(torch.FloatTensor)\n",
    "            accuracy_test_list.append(correct.mean())\n",
    "    \n",
    "    return accuracy_train_list, accuracy_test_list"
   ]
  },
  {
   "cell_type": "code",
   "execution_count": 15,
   "id": "86da65a3",
   "metadata": {},
   "outputs": [],
   "source": [
    "acc_train, acc_test = train(X_train, X_test, y_train, y_test,\n",
    "                            model, optimizer, loss_fn, 10000)"
   ]
  },
  {
   "cell_type": "markdown",
   "id": "39b18d68",
   "metadata": {},
   "source": [
    "# Plot"
   ]
  },
  {
   "cell_type": "code",
   "execution_count": 16,
   "id": "a6e8f680",
   "metadata": {},
   "outputs": [
    {
     "data": {
      "image/png": "[encoded data removed]",
      "text/plain": [
       "<Figure size 432x288 with 1 Axes>"
      ]
     },
     "metadata": {
      "needs_background": "light"
     },
     "output_type": "display_data"
    }
   ],
   "source": [
    "fig1, ax1 = plt.subplots()\n",
    "ax1.plot(acc_train, label='Train')\n",
    "ax1.plot(acc_test, label='Test')\n",
    "ax1.set(xlabel='Epoch', ylabel='Accuracy (%)')\n",
    "ax1.legend()\n",
    "plt.show()"
   ]
  },
  {
   "cell_type": "code",
   "execution_count": null,
   "id": "902e5204",
   "metadata": {},
   "outputs": [],
   "source": []
  }
 ],
 "metadata": {
  "kernelspec": {
   "display_name": "Python 3",
   "language": "python",
   "name": "python3"
  },
  "language_info": {
   "codemirror_mode": {
    "name": "ipython",
    "version": 3
   },
   "file_extension": ".py",
   "mimetype": "text/x-python",
   "name": "python",
   "nbconvert_exporter": "python",
   "pygments_lexer": "ipython3",
   "version": "3.8.10"
  }
 },
 "nbformat": 4,
 "nbformat_minor": 5
}
