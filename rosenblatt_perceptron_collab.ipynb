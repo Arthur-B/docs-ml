{
  "nbformat": 4,
  "nbformat_minor": 0,
  "metadata": {
    "colab": {
      "name": "rosenblatt-perceptron-collab.ipynb",
      "provenance": [],
      "collapsed_sections": [],
      "authorship_tag": "ABX9TyM8col7fXVGuBlnL4RjdWz9",
      "include_colab_link": true
    },
    "kernelspec": {
      "name": "python3",
      "display_name": "Python 3"
    },
    "language_info": {
      "name": "python"
    }
  },
  "cells": [
    {
      "cell_type": "markdown",
      "metadata": {
        "id": "view-in-github",
        "colab_type": "text"
      },
      "source": [
        "<a href=\"https://colab.research.google.com/github/Arthur-B/docs-ml/blob/master/rosenblatt_perceptron_collab.ipynb\" target=\"_parent\"><img src=\"https://colab.research.google.com/assets/colab-badge.svg\" alt=\"Open In Colab\"/></a>"
      ]
    },
    {
      "cell_type": "markdown",
      "metadata": {
        "id": "0wpqq7LSk-Z3"
      },
      "source": [
        "# Rosenblatt's perceptron\n",
        "\n",
        "\n",
        "Implement the Rosenblatt's perceptron as described in Haykin, Chap. 1\n",
        "We tried to keep the same structure (\"update weight\", \"train\") as used in the\n",
        "regression section."
      ]
    },
    {
      "cell_type": "markdown",
      "metadata": {
        "id": "EwtvXkXPloHP"
      },
      "source": [
        "## Import"
      ]
    },
    {
      "cell_type": "code",
      "metadata": {
        "id": "AgJeTRcxk3vL"
      },
      "source": [
        "import numpy as np\n",
        "import matplotlib.pyplot as plt"
      ],
      "execution_count": 1,
      "outputs": []
    },
    {
      "cell_type": "markdown",
      "metadata": {
        "id": "aksDH678lQHD"
      },
      "source": [
        "## Data generation\n",
        "\n",
        "At first we have to generate some data to classify. We define two categories, 1 and -1, each following a Gaussian distribution.\n"
      ]
    },
    {
      "cell_type": "code",
      "metadata": {
        "id": "Jj-9bSBhlt8k"
      },
      "source": [
        "# First Gaussian distribution\n",
        "\n",
        "n1 = 200    # Number of points in first category\n",
        "x1, y1 = -5, 5              # Mean\n",
        "x1_std, y1_std = 3, 1.5     # Standard deviation\n",
        "\n",
        "X1 = np.stack((np.random.normal(x1, x1_std, n1),\n",
        "               np.random.normal(y1, y1_std, n1)), axis=1)\n",
        "y1 = np.ones(n1)    # First category is 1\n",
        "\n",
        "# Second distribution\n",
        "\n",
        "n2 = 200\n",
        "x2, y2 = 10, 10\n",
        "x2_std, y2_std = 3, 3\n",
        "\n",
        "X2 = np.stack((np.random.normal(x2, x2_std, n2),\n",
        "               np.random.normal(y2, y2_std, n2)), axis=1)\n",
        "y2 = np.ones(n2) * -1   # Second category is -1"
      ],
      "execution_count": 2,
      "outputs": []
    },
    {
      "cell_type": "markdown",
      "metadata": {
        "id": "LD652KgSoklO"
      },
      "source": [
        "Let's have a look at how the data look:"
      ]
    },
    {
      "cell_type": "code",
      "metadata": {
        "colab": {
          "base_uri": "https://localhost:8080/",
          "height": 265
        },
        "id": "IWk2W3YQovjV",
        "outputId": "979ea717-05c2-4183-9c1e-b90c1487a176"
      },
      "source": [
        "fig1, ax1 = plt.subplots()\n",
        "\n",
        "ax1.scatter(X1[:, 0], X1[:, 1], marker='.', alpha=0.3, label='1')\n",
        "ax1.scatter(X2[:, 0], X2[:, 1], marker='.', alpha=0.3, label='-1')\n",
        "ax1.legend()\n",
        "\n",
        "plt.show()"
      ],
      "execution_count": 5,
      "outputs": [
        {
          "output_type": "display_data",
          "data": {
            "image/png": "[encoded data removed]",
            "text/plain": [
              "<Figure size 432x288 with 1 Axes>"
            ]
          },
          "metadata": {
            "tags": [],
            "needs_background": "light"
          }
        }
      ]
    },
    {
      "cell_type": "markdown",
      "metadata": {
        "id": "-w8WsuBooW_L"
      },
      "source": [
        "Then, we concatenate them together in one general dataset with $X$ as the input and $y$ as the output."
      ]
    },
    {
      "cell_type": "code",
      "metadata": {
        "id": "eR1pKQvwlxZi"
      },
      "source": [
        "X = np.concatenate((X1, X2), axis=0)\n",
        "y = np.concatenate((y1, y2), axis=0)"
      ],
      "execution_count": 7,
      "outputs": []
    },
    {
      "cell_type": "markdown",
      "metadata": {
        "id": "ZkqrfDJcl-yX"
      },
      "source": [
        "## Classification\n",
        "\n",
        "We implement the algorithm to update the weights.\n",
        "\n",
        "First, if the point is on the properly categorized well, we do not change the weights: no reason to change anything if the data is categorized properly. Second, if the point is wrongly categorized, we adjust the weights, according to a learning rate $\\eta$.\n",
        "\n",
        "\\begin{align}\n",
        "& (1) &\\mathbf{w}(n+1) = \\mathbf{w}(n) - \\eta(n)\\mathbf{x}(n) & \\text{ if }  \\mathbf{w}^T(n)\\mathbf{x}(n) > 0 \\text{ and } \\mathbf{x}(n) \\in \\mathscr{C_2} \\\\\n",
        "& (2) &\\mathbf{w}(n+1) = \\mathbf{w}(n) + \\eta(n)\\mathbf{x}(n) & \\text{ if } \\mathbf{w}^T(n)\\mathbf{x}(n) \\leq 0 \\text{ and } \\mathbf{x}(n) \\in \\mathscr{C_1}\n",
        "\\end{align}\n",
        "\n",
        "Therefore, the function will try to classify"
      ]
    },
    {
      "cell_type": "code",
      "metadata": {
        "id": "JHy-UdnvmEV5"
      },
      "source": [
        "def update_weights(X, y, w, alpha):\n",
        "    \"\"\"\n",
        "    Follows equation 1.3 and 1.6 to update the weight vector w.\n",
        "    \"\"\"\n",
        "\n",
        "    for i in range(len(X)):\n",
        "        # Define the vector according to the textbook\n",
        "        x_temp = np.array([[1], [X[i, 0]], [X[i, 1]]]).T\n",
        "\n",
        "        # Combiner output (Eq. 1.3)\n",
        "        v = np.matmul(x_temp, w.T)\n",
        "\n",
        "        # Eq 1.6: weight update\n",
        "        if (v > 0) and (y[i] == -1):\n",
        "            w -= alpha * x_temp\n",
        "        elif (v <= 0) and (y[i] == 1):\n",
        "            w += alpha * x_temp\n",
        "    return w"
      ],
      "execution_count": 6,
      "outputs": []
    },
    {
      "cell_type": "markdown",
      "metadata": {
        "id": "wopJGGPcyErP"
      },
      "source": [
        "After defining the rules to update the weights, we define the general training loop. We will Given the training data $(\\mathbf{X}, \\mathbf{y})$"
      ]
    },
    {
      "cell_type": "code",
      "metadata": {
        "id": "hSpishENmCTb"
      },
      "source": [
        "def train(X, y, w, alpha, epochs):\n",
        "    for i in range(epochs):\n",
        "        w = update_weights(X, y, w, alpha)\n",
        "        if i % 100 == 0:\n",
        "            print(\"EPOCH: \", i)\n",
        "    return w"
      ],
      "execution_count": 8,
      "outputs": []
    },
    {
      "cell_type": "code",
      "metadata": {
        "id": "J9Z9nrdknEGf"
      },
      "source": [
        "# Define the vector according to the textbook\n",
        "w = np.array([[0.0], [0.0], [0.0]]).T\n",
        "alpha = 1e-4    # Learning rate\n",
        "epochs = 1000"
      ],
      "execution_count": 9,
      "outputs": []
    },
    {
      "cell_type": "code",
      "metadata": {
        "colab": {
          "base_uri": "https://localhost:8080/"
        },
        "id": "AhJeuEE-nLat",
        "outputId": "5126c18e-0c49-450e-c21b-99c347828992"
      },
      "source": [
        "w = train(X, y, w, alpha, epochs)\n",
        "w = w.squeeze()     # Get rid of unwanted dimensions"
      ],
      "execution_count": 10,
      "outputs": [
        {
          "output_type": "stream",
          "text": [
            "EPOCH:  0\n",
            "EPOCH:  100\n",
            "EPOCH:  200\n",
            "EPOCH:  300\n",
            "EPOCH:  400\n",
            "EPOCH:  500\n",
            "EPOCH:  600\n",
            "EPOCH:  700\n",
            "EPOCH:  800\n",
            "EPOCH:  900\n"
          ],
          "name": "stdout"
        }
      ]
    },
    {
      "cell_type": "markdown",
      "metadata": {
        "id": "uxWMB7CinSMb"
      },
      "source": [
        "## Graph"
      ]
    },
    {
      "cell_type": "code",
      "metadata": {
        "colab": {
          "base_uri": "https://localhost:8080/",
          "height": 269
        },
        "id": "q2P643gDnWIH",
        "outputId": "94a96983-b3cb-4ba2-ed9e-e7a90ca8c0ff"
      },
      "source": [
        "# Determine the boundary line\n",
        "\n",
        "x_plot = np.linspace(-10, 10)\n",
        "y_plot = -(w[1] * x_plot + w[0]) / w[2]\n",
        "\n",
        "# Make the figure\n",
        "\n",
        "fig2, ax2 = plt.subplots()\n",
        "\n",
        "ax2.scatter(X1[:, 0], X1[:, 1], marker='.', alpha=0.3)\n",
        "ax2.scatter(X2[:, 0], X2[:, 1], marker='.', alpha=0.3)\n",
        "ax2.plot(x_plot, y_plot, 'k')\n",
        "\n",
        "ax2.set(xlim=[-15, 20], ylim=[-5, 20])\n",
        "\n",
        "plt.show()"
      ],
      "execution_count": 14,
      "outputs": [
        {
          "output_type": "display_data",
          "data": {
            "image/png": "[encoded data removed]",
            "text/plain": [
              "<Figure size 432x288 with 1 Axes>"
            ]
          },
          "metadata": {
            "tags": [],
            "needs_background": "light"
          }
        }
      ]
    },
    {
      "cell_type": "markdown",
      "metadata": {
        "id": "rVCLshYs04aS"
      },
      "source": [
        "## Review\n",
        "\n",
        "In this first example"
      ]
    }
  ]
}