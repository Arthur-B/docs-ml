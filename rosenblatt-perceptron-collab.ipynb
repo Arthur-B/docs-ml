{
  "nbformat": 4,
  "nbformat_minor": 0,
  "metadata": {
    "colab": {
      "name": "Untitled0.ipynb",
      "provenance": [],
      "authorship_tag": "ABX9TyNRsrtgZ4GvauVCK0HSBtes",
      "include_colab_link": true
    },
    "kernelspec": {
      "name": "python3",
      "display_name": "Python 3"
    },
    "language_info": {
      "name": "python"
    }
  },
  "cells": [
    {
      "cell_type": "markdown",
      "metadata": {
        "id": "view-in-github",
        "colab_type": "text"
      },
      "source": [
        "<a href=\"https://colab.research.google.com/github/Arthur-B/docs-ml/blob/master/rosenblatt-perceptron-collab.ipynb\" target=\"_parent\"><img src=\"https://colab.research.google.com/assets/colab-badge.svg\" alt=\"Open In Colab\"/></a>"
      ]
    },
    {
      "cell_type": "code",
      "metadata": {
        "id": "vWJpgTVpk9aB"
      },
      "source": [
        ""
      ],
      "execution_count": null,
      "outputs": []
    },
    {
      "cell_type": "markdown",
      "metadata": {
        "id": "0wpqq7LSk-Z3"
      },
      "source": [
        "# Rosenblatt's perceptron\n",
        "\n",
        "\n",
        "Implement the Rosenblatt's perceptron as described in Haykin, Chap. 1\n",
        "We tried to keep the same structure (\"update weight\", \"train\") as used in the\n",
        "regression section."
      ]
    },
    {
      "cell_type": "markdown",
      "metadata": {
        "id": "aksDH678lQHD"
      },
      "source": [
        "## Data generation"
      ]
    },
    {
      "cell_type": "code",
      "metadata": {
        "id": "AgJeTRcxk3vL"
      },
      "source": [
        "import numpy as np\n",
        "import matplotlib.pyplot as plt"
      ],
      "execution_count": null,
      "outputs": []
    }
  ]
}