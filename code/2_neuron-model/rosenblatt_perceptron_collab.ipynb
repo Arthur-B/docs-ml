{
 "cells": [
  {
   "cell_type": "markdown",
   "metadata": {
    "colab_type": "text",
    "id": "view-in-github"
   },
   "source": [
    "<a href=\"https://colab.research.google.com/github/Arthur-B/docs-ml/blob/master/rosenblatt_perceptron_collab.ipynb\" target=\"_parent\"><img src=\"https://colab.research.google.com/assets/colab-badge.svg\" alt=\"Open In Colab\"/></a>"
   ]
  },
  {
   "cell_type": "markdown",
   "metadata": {
    "id": "0wpqq7LSk-Z3"
   },
   "source": [
    "# Rosenblatt's perceptron\n",
    "\n",
    "\n",
    "Implement the Rosenblatt's perceptron as described in Haykin, Chap. 1\n",
    "We tried to keep the same structure (\"update weight\", \"train\") as used in the\n",
    "regression section."
   ]
  },
  {
   "cell_type": "markdown",
   "metadata": {},
   "source": [
    "## Neuron Model\n",
    "\n",
    "### 2D example\n",
    "\n",
    "While neural networks developed really quickly recently due to advances in computer hardware, the idea of an artificial neuron goes back to 1943 where McCulloch and Pitts introduced the concept of neural networks as computing machines. They drew parallels with the behaviour of biological neurons to define a general signal processing model that may be used for learning. The model is presented below.\n",
    "\n",
    "![Neuron model](images/neuron-model.png)\n",
    "\n",
    "The model first make a linear combinations of the inputs:\n",
    "\n",
    "\\begin{equation}\n",
    "v = w_1x_1 + w_2x_2 + b\n",
    "\\end{equation}\n",
    "\n",
    "Then, pass it through a non-linear activation function:\n",
    "\n",
    "\\begin{align}\n",
    "y & = f(v) \\\\\n",
    "y & = f(w_1x_1 + w_2x_2 + b)\n",
    "\\end{align}\n",
    "\n",
    "Throughout the tutorials, we will see that there are a wide range of activation functions that can be used (step function, sigmoid, ReLU, ...). Here, it is [the unit step function](https://en.wikipedia.org/wiki/Heaviside_step_function):\n",
    "\n",
    "\\begin{equation}\n",
    "y =\n",
    "\\begin{cases}\n",
    "1 & \\text{if} & w_1x_1 + w_2x_2 + b > 0 \\\\\n",
    "0 & \\text{if} & w_1x_1 + w_2x_2 + b \\leq 0\n",
    "\\end{cases}\n",
    "\\end{equation}\n",
    "\n",
    "This divide the space in two parts, with the boundary given by:\n",
    "\n",
    "\\begin{equation}\n",
    "w_1x_1 + w_2x_2 + b = 0\n",
    "\\end{equation}\n",
    "\n",
    "![Neuron model](images/separate_space.png)\n",
    "\n",
    "Therefore, by adjusting $w_1$, $w_2$, and $b$, the position of the line can be adjusted to separate two categories.\n",
    "\n",
    "### Higher dimensions\n",
    "\n",
    "If we want to generalize it to a system with $ n $-dimensions, we need to introduce more general notations. We define the input vector, $\\mathbf{x}$, and weight vector, $\\mathbf{w}$, as:\n",
    "\n",
    "\\begin{align}\n",
    "\\mathbf{x} & = \\left[1, x_1, x_2, ..., x_n \\right]^T \\\\\n",
    "\\mathbf{w} & = \\left[b, w_1, w_2, ..., w_n \\right]^T\n",
    "\\end{align}\n",
    "\n",
    "In that case the boundary can be expressed in the compact form of:\n",
    "\n",
    "\\begin{equation}\n",
    "\\mathbf{w}^T \\mathbf{x} = 0\n",
    "\\end{equation}"
   ]
  },
  {
   "cell_type": "markdown",
   "metadata": {
    "id": "ZkqrfDJcl-yX"
   },
   "source": [
    "## Algorithm\n",
    "\n",
    "The Rosenblatt's perceptron is a first case of rule-based supervised learning. Let's break that down:\n",
    "\n",
    "* \"rule-based\": it applies fixed rules to update the weights and converge to a solution\n",
    "* \"supervised learning\": it \n",
    "\n",
    "We implement the algorithm to update the weights.\n",
    "\n",
    "First, if the point is on the properly categorized well, we do not change the weights: no reason to change anything if the data is categorized properly. Second, if the point is wrongly categorized, we adjust the weights, according to a learning rate $\\eta$.\n",
    "\n",
    "\\begin{align}\n",
    "& (1) &\\mathbf{w}(n+1) = \\mathbf{w}(n) - \\eta(n)\\mathbf{x}(n) & \\text{ if }  \\mathbf{w}^T(n)\\mathbf{x}(n) > 0 \\text{ and } \\mathbf{x}(n) \\in \\mathscr{C_2} \\\\\n",
    "& (2) &\\mathbf{w}(n+1) = \\mathbf{w}(n) + \\eta(n)\\mathbf{x}(n) & \\text{ if } \\mathbf{w}^T(n)\\mathbf{x}(n) \\leq 0 \\text{ and } \\mathbf{x}(n) \\in \\mathscr{C_1}\n",
    "\\end{align}\n",
    "\n",
    "Therefore, the function will try to classify"
   ]
  },
  {
   "cell_type": "markdown",
   "metadata": {
    "id": "EwtvXkXPloHP"
   },
   "source": [
    "## Implementation\n",
    "\n",
    "### Import"
   ]
  },
  {
   "cell_type": "code",
   "execution_count": 1,
   "metadata": {
    "id": "AgJeTRcxk3vL"
   },
   "outputs": [],
   "source": [
    "import numpy as np\n",
    "import matplotlib.pyplot as plt"
   ]
  },
  {
   "cell_type": "markdown",
   "metadata": {
    "id": "aksDH678lQHD"
   },
   "source": [
    "### Data generation\n",
    "\n",
    "At first we have to generate some data to classify. We define two categories, 1 and 2, each following a Gaussian distribution.\n"
   ]
  },
  {
   "cell_type": "code",
   "execution_count": 2,
   "metadata": {
    "id": "Jj-9bSBhlt8k"
   },
   "outputs": [],
   "source": [
    "# First Gaussian distribution\n",
    "\n",
    "n1 = 200    # Number of points in first category\n",
    "x1, y1 = -5, 5              # Mean\n",
    "x1_std, y1_std = 3, 1.5     # Standard deviation\n",
    "\n",
    "X1 = np.stack((np.random.normal(x1, x1_std, n1),\n",
    "               np.random.normal(y1, y1_std, n1)), axis=1)\n",
    "y1 = np.ones(n1)    # First category is 1\n",
    "\n",
    "# Second distribution\n",
    "\n",
    "n2 = 200\n",
    "x2, y2 = 10, 10\n",
    "x2_std, y2_std = 3, 3\n",
    "\n",
    "X2 = np.stack((np.random.normal(x2, x2_std, n2),\n",
    "               np.random.normal(y2, y2_std, n2)), axis=1)\n",
    "y2 = np.ones(n2) * 2   # Second category is 2"
   ]
  },
  {
   "cell_type": "markdown",
   "metadata": {
    "id": "LD652KgSoklO"
   },
   "source": [
    "Let's have a look at the data:"
   ]
  },
  {
   "cell_type": "code",
   "execution_count": 3,
   "metadata": {
    "colab": {
     "base_uri": "https://localhost:8080/",
     "height": 265
    },
    "id": "IWk2W3YQovjV",
    "outputId": "979ea717-05c2-4183-9c1e-b90c1487a176"
   },
   "outputs": [
    {
     "data": {
      "image/png": "[encoded data removed]",
      "text/plain": [
       "<Figure size 432x288 with 1 Axes>"
      ]
     },
     "metadata": {
      "needs_background": "light"
     },
     "output_type": "display_data"
    }
   ],
   "source": [
    "fig1, ax1 = plt.subplots()\n",
    "\n",
    "ax1.scatter(X1[:, 0], X1[:, 1], marker='.', alpha=0.3, label='1')\n",
    "ax1.scatter(X2[:, 0], X2[:, 1], marker='.', alpha=0.3, label='2')\n",
    "ax1.legend()\n",
    "\n",
    "\n",
    "ax1.set(xlabel='$x_1$', ylabel='$x_2$')\n",
    "plt.show()"
   ]
  },
  {
   "cell_type": "markdown",
   "metadata": {
    "id": "-w8WsuBooW_L"
   },
   "source": [
    "Then, we concatenate them together in one general dataset with $X$ as the input and $y$ as the output."
   ]
  },
  {
   "cell_type": "code",
   "execution_count": 4,
   "metadata": {
    "id": "eR1pKQvwlxZi"
   },
   "outputs": [],
   "source": [
    "X = np.concatenate((X1, X2), axis=0)\n",
    "y = np.concatenate((y1, y2), axis=0)"
   ]
  },
  {
   "cell_type": "code",
   "execution_count": 5,
   "metadata": {
    "id": "JHy-UdnvmEV5"
   },
   "outputs": [],
   "source": [
    "def update_weights(X, y, w, alpha):\n",
    "    \"\"\"\n",
    "    Follows equation 1.3 and 1.6 to update the weight vector w.\n",
    "    \"\"\"\n",
    "\n",
    "    for i in range(len(X)):\n",
    "        # Define the vector according to the textbook\n",
    "        x_temp = np.array([[1], [X[i, 0]], [X[i, 1]]]).T\n",
    "\n",
    "        # Combiner output (Eq. 1.3)\n",
    "        v = np.matmul(x_temp, w.T)\n",
    "\n",
    "        # Eq 1.6: weight update\n",
    "        if (v > 0) and (y[i] == 2):\n",
    "            w -= alpha * x_temp\n",
    "        elif (v <= 0) and (y[i] == 1):\n",
    "            w += alpha * x_temp\n",
    "    return w"
   ]
  },
  {
   "cell_type": "markdown",
   "metadata": {
    "id": "wopJGGPcyErP"
   },
   "source": [
    "After defining the rules to update the weights, we define the general training loop. We will Given the training data $(\\mathbf{X}, \\mathbf{y})$"
   ]
  },
  {
   "cell_type": "code",
   "execution_count": 6,
   "metadata": {
    "id": "hSpishENmCTb"
   },
   "outputs": [],
   "source": [
    "def train(X, y, w, alpha, epochs):\n",
    "    for i in range(epochs):\n",
    "        w = update_weights(X, y, w, alpha)\n",
    "        if i % 100 == 0:\n",
    "            print(\"EPOCH: \", i)\n",
    "    return w"
   ]
  },
  {
   "cell_type": "code",
   "execution_count": 7,
   "metadata": {
    "id": "J9Z9nrdknEGf"
   },
   "outputs": [],
   "source": [
    "# Define the vector according to the textbook\n",
    "w = np.array([[0.0], [0.0], [0.0]]).T\n",
    "alpha = 1e-4    # Learning rate\n",
    "epochs = 1000"
   ]
  },
  {
   "cell_type": "code",
   "execution_count": 8,
   "metadata": {
    "colab": {
     "base_uri": "https://localhost:8080/"
    },
    "id": "AhJeuEE-nLat",
    "outputId": "5126c18e-0c49-450e-c21b-99c347828992"
   },
   "outputs": [
    {
     "name": "stdout",
     "output_type": "stream",
     "text": [
      "EPOCH:  0\n",
      "EPOCH:  100\n",
      "EPOCH:  200\n",
      "EPOCH:  300\n",
      "EPOCH:  400\n",
      "EPOCH:  500\n",
      "EPOCH:  600\n",
      "EPOCH:  700\n",
      "EPOCH:  800\n",
      "EPOCH:  900\n"
     ]
    }
   ],
   "source": [
    "w = train(X, y, w, alpha, epochs)\n",
    "w = w.squeeze()     # Get rid of unwanted dimensions"
   ]
  },
  {
   "cell_type": "markdown",
   "metadata": {
    "id": "uxWMB7CinSMb"
   },
   "source": [
    "### Graph"
   ]
  },
  {
   "cell_type": "code",
   "execution_count": 9,
   "metadata": {
    "colab": {
     "base_uri": "https://localhost:8080/",
     "height": 269
    },
    "id": "q2P643gDnWIH",
    "outputId": "94a96983-b3cb-4ba2-ed9e-e7a90ca8c0ff"
   },
   "outputs": [
    {
     "data": {
      "image/png": "[encoded data removed]",
      "text/plain": [
       "<Figure size 432x288 with 1 Axes>"
      ]
     },
     "metadata": {
      "needs_background": "light"
     },
     "output_type": "display_data"
    }
   ],
   "source": [
    "# Determine the boundary line\n",
    "\n",
    "x_plot = np.linspace(-10, 10)\n",
    "y_plot = -(w[1] * x_plot + w[0]) / w[2]\n",
    "\n",
    "# Make the figure\n",
    "\n",
    "fig2, ax2 = plt.subplots()\n",
    "\n",
    "ax2.scatter(X1[:, 0], X1[:, 1], marker='.', alpha=0.3, label='1')\n",
    "ax2.scatter(X2[:, 0], X2[:, 1], marker='.', alpha=0.3, label='2')\n",
    "ax2.plot(x_plot, y_plot, 'k', label='Linear boundary')\n",
    "\n",
    "ax2.set(xlabel='$x_1$', ylabel='$x_2$',\n",
    "        xlim=[-15, 20], ylim=[-5, 20])\n",
    "ax2.legend()\n",
    "plt.show()"
   ]
  },
  {
   "cell_type": "markdown",
   "metadata": {
    "id": "rVCLshYs04aS"
   },
   "source": [
    "## Review\n",
    "\n",
    "In this first example, we introduced the neuron model."
   ]
  }
 ],
 "metadata": {
  "colab": {
   "authorship_tag": "ABX9TyM8col7fXVGuBlnL4RjdWz9",
   "collapsed_sections": [],
   "include_colab_link": true,
   "name": "rosenblatt-perceptron-collab.ipynb",
   "provenance": []
  },
  "kernelspec": {
   "display_name": "Python 3",
   "language": "python",
   "name": "python3"
  },
  "language_info": {
   "codemirror_mode": {
    "name": "ipython",
    "version": 3
   },
   "file_extension": ".py",
   "mimetype": "text/x-python",
   "name": "python",
   "nbconvert_exporter": "python",
   "pygments_lexer": "ipython3",
   "version": "3.7.6"
  }
 },
 "nbformat": 4,
 "nbformat_minor": 1
}
